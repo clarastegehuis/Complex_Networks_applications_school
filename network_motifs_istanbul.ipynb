{
 "cells": [
  {
   "cell_type": "markdown",
   "id": "9b0f77fd",
   "metadata": {},
   "source": [
    "# Network motifs\n",
    "In this notebook, we will be exploring how to work with network motifs. You will first need the following two modules. Networx is one of the main network science libraries for python. It has many functions built in for network analysis https://networkx.org/. We will also need the packages below. You may already have them installed, if so, you can skip the first cell, and just load them in the second cell."
   ]
  },
  {
   "cell_type": "code",
   "execution_count": null,
   "id": "0a03d417",
   "metadata": {},
   "outputs": [],
   "source": [
    "import sys\n",
    "!{sys.executable} -m pip install numpy\n",
    "!{sys.executable} -m pip install networkx\n",
    "!{sys.executable} -m pip install matplotlib\n",
    "!{sys.executable} -m pip install random\n",
    "!{sys.executable} -m pip install time"
   ]
  },
  {
   "cell_type": "code",
   "execution_count": null,
   "id": "f05e4734",
   "metadata": {},
   "outputs": [],
   "source": [
    "import numpy as np\n",
    "import networkx as nx\n",
    "from matplotlib import pyplot as plt\n",
    "import random as rd\n",
    "import time"
   ]
  },
  {
   "cell_type": "markdown",
   "id": "d6c896dc",
   "metadata": {},
   "source": [
    "We will investigate motif counts in one of two data sets, so first let's load the data that you are interested in. Here, I included two sources of data: one of the hamsterer social network, and one router network. Choose whichever you like, and comment the other one out. \n",
    "\n",
    "###  <font color='red'>When using Jupyter notebook on donwloaded GitHub folder, run the cell below</font>"
   ]
  },
  {
   "cell_type": "code",
   "execution_count": null,
   "id": "62d27261",
   "metadata": {},
   "outputs": [],
   "source": [
    "G = nx.read_adjlist(\"router_network.txt\")     #read adjacency list into a graph object\n",
    "G = nx.read_adjlist(\"hamsterer.txt\")    #read graphml file into a graph object\n",
    "\n",
    "\n",
    "print('Number of nodes', len(G.nodes))\n",
    "print('Number of edges', len(G.edges))\n",
    "avgdeg = sum(dict(G.degree).values()) / len(G.nodes)\n",
    "print('Average degree', avgdeg)"
   ]
  },
  {
   "cell_type": "markdown",
   "id": "04147e52",
   "metadata": {},
   "source": [
    "### <font color='red'>When using Google collab run the two cells below instead:</font>\n",
    "\n",
    "The rest of the notebook is the same regardless of which method you used. Again, to change to another data set, comment the one that you do not use out."
   ]
  },
  {
   "cell_type": "code",
   "execution_count": null,
   "id": "00f0ca75",
   "metadata": {},
   "outputs": [],
   "source": [
    "!git clone https://github.com/clarastegehuis/Complex_Networks_applications_school/"
   ]
  },
  {
   "cell_type": "code",
   "execution_count": null,
   "id": "0d7d9dc7",
   "metadata": {},
   "outputs": [],
   "source": [
    "G = nx.read_adjlist('/content/Complex_Networks_applications_school/hamsterer.txt')     #read adjacency list into a graph object\n",
    "G = nx.read_adjlist('/content/Complex_Networks_applications_school/router_network.txt')     #read adjacency list into a graph object\n",
    "\n",
    "print('Number of nodes', len(G.nodes))\n",
    "print('Number of edges', len(G.edges))\n",
    "avgdeg = sum(dict(G.degree).values()) / len(G.nodes)\n",
    "print('Average degree', avgdeg)"
   ]
  },
  {
   "cell_type": "markdown",
   "id": "44db2771",
   "metadata": {},
   "source": [
    "# Part 1: Relating Orbits\n",
    "\n",
    "In this part, we are trying to compute the number of times a node x appears in a specific 4-node motif role, by using 3-vertex subgraph counts, $G_1$ (path) and $G_2$ (triangle).\n",
    "\n",
    "![image.png](https://imgur.com/Rty1zxY.png)\n",
    "\n",
    "## Exercise 1\n",
    "Relate the orbits $o_9$ and $o_6$ to the path counts $p(x,y)$, in the form\n",
    "$$a \\times o_6 + b\\times  o_9 = \\sum_{y,z: x,y,z = G_1}p(x,y)-1 .$$\n",
    "In the code, you can adjust $a$ and $b$ and check whether it indeed counts the orbits correctly. The codes will also show the time it takes to compute the right-hand side of the equation (depending on only 3-vertex subgraphs), and the one of the left-hand side (computing 4-node subgraph counts).\n",
    "\n",
    "Hint: Try to see what the possible 4-vertex subgraphs are when you add a node $w$, that is not connected to $x$ to the path $x,y,z$, and what the orbit of $x$ would be in that subgraph, see the image:\n",
    "\n",
    "![image-2.png](https://imgur.com/fmWUGA8.png)"
   ]
  },
  {
   "cell_type": "code",
   "execution_count": null,
   "id": "a293f441",
   "metadata": {},
   "outputs": [],
   "source": [
    "time_start = time.time()\n",
    "triangles = nx.triangles(G)\n",
    "\n",
    "def pxycount(G,x,y): #The function that computes the number of length 3 paths containing node x as end node and node y as a middle node\n",
    "    neighbors_y = list(G.neighbors(y))\n",
    "    if x in neighbors_y:\n",
    "        pxy_count = len(neighbors_y)-1\n",
    "    else:\n",
    "        pxy_count = 0\n",
    "    return pxy_count\n",
    "\n",
    "pxydict = {} #The dictionary that will contain the pxycount(x,y) for all edges (x,y)\n",
    "for edge in G.edges():\n",
    "    pxydict[(edge[0],edge[1])] = pxycount(G,edge[0],edge[1])\n",
    "    pxydict[(edge[1],edge[0])] = pxycount(G,edge[1],edge[0])\n",
    "\n",
    "def pxysum(G,x): #The function that computes the sum of pxycount(x,y)-1 over all neighbors y for a given node x\n",
    "    neighbors = list(G.neighbors(x))\n",
    "    pxysum = 0\n",
    "    for neighbor in neighbors:\n",
    "        pxysum += (pxydict[(x,neighbor)]-1)*(G.degree(neighbor)-1)\n",
    "    return pxysum\n",
    "\n",
    "#The vector that will contain the right hand side of the equation for each node\n",
    "for node in G.nodes:\n",
    "    G.nodes[node][\"pxysum\"]=pxysum(G,node)\n",
    "print(\"time it takes to compute the right-hand side of the equation:\", time.time()-time_start)\n"
   ]
  },
  {
   "cell_type": "code",
   "execution_count": null,
   "id": "9431a2cf",
   "metadata": {},
   "outputs": [],
   "source": [
    "time_start = time.time()\n",
    "\n",
    "def o9(G,x): #The function that computes the times node x appears as orbit 9\n",
    "    neighbors = list(G.neighbors(x))\n",
    "    o9_count = 0\n",
    "    for neighbor in neighbors:\n",
    "        potential_degree = (G.degree(neighbor)-1)*(G.degree(neighbor)-2)/2\n",
    "        o9_count += potential_degree-(triangles[neighbor]-len(nx.common_neighbors(G,x,neighbor)))\n",
    "    return o9_count\n",
    "\n",
    "def o6(G,x): #The function that computes the times node x appears as orbit 6\n",
    "    neighbors = list(G.neighbors(x))\n",
    "    o6_count = 0\n",
    "    for neighbor in neighbors:\n",
    "        o6_count += triangles[neighbor]-len(nx.common_neighbors(G,x,neighbor))\n",
    "    return o6_count\n",
    "\n",
    "\n",
    "# Here you can relate the orbit counts to the path counts:\n",
    "o6_factor =           # a in the equation above\n",
    "o9_factor =           # b in the equation above\n",
    "\n",
    "#The vector that will contain the left hand side of the equation for each node\n",
    "for node in G.nodes:\n",
    "        G.nodes[node][\"orbit6_9\"]=(int(o6_factor*o6(G,node)+o9_factor*o9(G,node)))\n",
    "print(\"time it takes to count 4-vertex orbits o6 and o9:\",time.time()-time_start, '\\n')\n",
    "\n",
    "\n",
    "print('check whether the weighted orbit counts are the same as the sum over the p(x,y)s:')\n",
    "# Generate a check to see if the factors are correct:\n",
    "\n",
    "for (i,node) in enumerate(G.nodes):\n",
    "        print(f\"Node {node}:\\t a*o_6+b*o_9 = {G.nodes[node]['orbit6_9']},\\t sum p(x,y)-1 = {G.nodes[node]['pxysum']}\")\n"
   ]
  },
  {
   "cell_type": "markdown",
   "id": "dadc9ff0",
   "metadata": {},
   "source": [
    "## Bonus exercise (Part 1)\n",
    "\n",
    "Link the orbit counts $o_{13}$ and $o_{14}$ to the sum of common neighbors of $x$ and $z$ $c(x,z)$, and common neighbors of $x$ and $y$ $c(x,y)$.\n",
    "\n",
    "$$a*o_{13}+b*o_{14} = \\sum_{y,z: x,y,z=\\triangle}c(x,y)-1+c(x,z)-1. $$\n",
    "Here, you can try to extend a triangle between $x,y,z$ into a four-node subgraph by adding a node $w$ that is connected to both $x$ and $y$, and see what possible 4-node subgraphs can appear. You can use the following picture\n",
    "\n",
    "![image.png](https://imgur.com/v1JuyoI.png)\n"
   ]
  },
  {
   "cell_type": "code",
   "execution_count": null,
   "id": "bc4b2050",
   "metadata": {},
   "outputs": [],
   "source": [
    "time_start = time.time()\n",
    "\n",
    "# Define the orbit counts and the c(x,y) counts that count triangles.\n",
    "def c(G,x,y):\n",
    "    return len(nx.common_neighbors(G,x,y))\n",
    "\n",
    "for edge in G.edges():\n",
    "    G[edge[0]][edge[1]]['cxy'] = c(G,edge[0],edge[1])\n",
    "\n",
    "\n",
    "# the right-hand-side of the abve equation\n",
    "def sum_cxy(G,x):\n",
    "    neighbors = list(G.neighbors(x))\n",
    "    sum_cxy = 0\n",
    "    for (i,neighbor1) in enumerate(neighbors):\n",
    "        for neighbor2 in neighbors[i+1:]:\n",
    "            if G.has_edge(neighbor1,neighbor2):\n",
    "                sum_cxy += G[x][neighbor2]['cxy']-1+G[x][neighbor1]['cxy']-1\n",
    "    return sum_cxy\n",
    "\n",
    "rhsvec_ex_2 = [] #The vector that will contain the right hand side of the equation for each node\n",
    "for node in G.nodes:\n",
    "    rhsvec_ex_2.append(sum_cxy(G,node))\n",
    "print(\"time it takes to compute the right-hand side of the equation:\", time.time()-time_start)\n",
    "\n",
    "# orbit counts o_13 and o_14\n",
    "def o13_o14(G,x):\n",
    "    o13 = 0\n",
    "    o14 = 0\n",
    "    neighbors = list(G.neighbors(x))\n",
    "    for (i,neighbor1) in enumerate(neighbors):\n",
    "        for neighbor2 in neighbors[i+1:]:\n",
    "            templist = nx.common_neighbors(G,neighbor1,neighbor2)\n",
    "            for z in templist:\n",
    "                if z in neighbors:\n",
    "                    if G.has_edge(neighbor1,neighbor2):\n",
    "                        o14 += 1/3\n",
    "                    else:\n",
    "                        o13 += 1\n",
    "    return o13, o14"
   ]
  },
  {
   "cell_type": "code",
   "execution_count": null,
   "id": "9e27e22f",
   "metadata": {},
   "outputs": [],
   "source": [
    "time_start = time.time()\n",
    "\n",
    "# here you can relate the orbit counts to the triangle counts by filling in the correct factors\n",
    "o13factor =       # fill in the right value of a in the equation above\n",
    "o14factor =       # fill in the right value of b in the equation above\n",
    "\n",
    "lhsvec_ex_2 = [] #The vector that will contain the left hand side of the equation for each node\n",
    "for node in G.nodes:\n",
    "    lhsvec_ex_2.append(int(o13factor*o13_o14(G,node)[0]+o14factor*o13_o14(G,node)[1]))\n",
    "\n",
    "print(\"time it takes to count 4-vertex orbits o13 and o14:\",time.time()-time_start, '\\n')\n",
    "\n",
    "print('check whether the weighted orbit counts are the same as the sum over the c(x,y)s:')\n",
    "# Generate a check to see if the factors are correct:\n",
    "for (i,node) in enumerate(G.nodes):\n",
    "    print(f\"Node {node}:\\t a*o_13+b*o_14 = {lhsvec_ex_2[i]},\\t sum c(x,y)-1+c(x,z)-1 = {rhsvec_ex_2[i]}\")"
   ]
  },
  {
   "cell_type": "markdown",
   "id": "f685b873",
   "metadata": {},
   "source": [
    "# Part 2\n",
    "## Random sampling\n",
    "Sometimes it is not possible to count the exact number of subgraphs in a large networks due to large computation times. One of the solutions to this problem is to use sampling instead. Many methods to sample subgraphs exist, but here we focus on the simplest one of them, creating a subsample of the network where every node is included with probability $q$. Then, it computes subgraphs (in this case cliques) in the reduced graph. To be able to compare our sampling algorithm to the ground truth, we first count the number of all cliques in the data:"
   ]
  },
  {
   "cell_type": "code",
   "execution_count": null,
   "id": "10bbbe85",
   "metadata": {},
   "outputs": [],
   "source": [
    "clique_list = nx.enumerate_all_cliques(G)   \n",
    "\n",
    "def cliquenumber(cliques,k):                #A function that takes a list with all cliques in the graph, and then reports the number of k-cliques\n",
    "    k_clique_num = 0\n",
    "    for i in cliques:\n",
    "        if len(i)==k:\n",
    "            k_clique_num += 1\n",
    "    return k_clique_num\n",
    "\n",
    "k = 3\n",
    "clique_count_G = cliquenumber(clique_list,k)\n",
    "print(clique_count_G)"
   ]
  },
  {
   "cell_type": "markdown",
   "id": "f4e1f96f",
   "metadata": {},
   "source": [
    "# Exercise 2\n",
    "Fill in the blanks in the code below to obtain an estimate for the number of cliques in the larger graph from this sampled clique count. "
   ]
  },
  {
   "cell_type": "code",
   "execution_count": null,
   "id": "021150ea",
   "metadata": {},
   "outputs": [],
   "source": [
    "def sampled_cliques(Graph,sample_prob,size): # This function takes in a graph Graph, and returns an estimated clique count for cliques of size 'size'\n",
    "    nsampled = int((1-sample_prob)*len(Graph.nodes()))\n",
    "    sample = rd.sample(list(Graph.nodes), nsampled)    \n",
    "    H=Graph.copy()\n",
    "    H.remove_nodes_from(sample)            #remove every vertex in Graph independently with probability 1-p\n",
    "\n",
    "    clique_list_sampled = nx.enumerate_all_cliques(H)  \n",
    "    sampled_clique_count = cliquenumber(clique_list_sampled,size)        # the clique count in the subsampled graph\n",
    "\n",
    "    estimated_clique_count =           # figure out how to compute the estimated clique count from sampled_clique_count\n",
    "    return estimated_clique_count"
   ]
  },
  {
   "cell_type": "markdown",
   "id": "3e2fe1a4",
   "metadata": {},
   "source": [
    "To check your code, the cell below creates 100 subgraph count estimates with sampling probability $q$, and plots them together with the data count (dashed line). "
   ]
  },
  {
   "cell_type": "code",
   "execution_count": null,
   "id": "965a453f",
   "metadata": {},
   "outputs": [],
   "source": [
    "def plot_triads(countvec,datacount):    #This function plots a histogram of countvec, with a horizontal line at datacount\n",
    "    fig, ax = plt.subplots(figsize =(10, 7))\n",
    "    ax.hist(countvec, alpha = 0.65)\n",
    "    plt.style.use(\"bmh\")\n",
    "\n",
    "    ax.set_yticks([])\n",
    "    ax.grid(False)\n",
    "    ax.tick_params(left = False, bottom = False)\n",
    "    for ax, spine in ax.spines.items():\n",
    "        spine.set_visible(False)\n",
    "    plt.xlabel(\"clique counts\",size = 17)\n",
    "    plt.ylabel(\"frequency\",size = 17)\n",
    "    plt.axvline(datacount, color = 'k', linestyle='dashed', linewidth=2)\n",
    "\n",
    "    # Show plot\n",
    "    plt.show()"
   ]
  },
  {
   "cell_type": "code",
   "execution_count": null,
   "id": "f2fb8167",
   "metadata": {},
   "outputs": [],
   "source": [
    "start_time = time.time()\n",
    "q = 0.7                     # the probability that a node is included in the sample\n",
    "\n",
    "sampledvec = []\n",
    "for i in range(100):\n",
    "    sampledvec.append(sampled_cliques(G,q,k))\n",
    "plot_triads(sampledvec,clique_count_G)\n",
    "print(\"time it takes to estimate triangle count:\", time.time()-start_time)"
   ]
  },
  {
   "cell_type": "markdown",
   "id": "e6fd4a46",
   "metadata": {},
   "source": [
    "# Part 3: Neighborhood sampling\n",
    "Below, we would like to create an unbiased neighborhood sampling algorithm to approximate the density of triangles. First, we define a function that computes the triangle density of a graph:"
   ]
  },
  {
   "cell_type": "code",
   "execution_count": null,
   "id": "8816abab",
   "metadata": {},
   "outputs": [],
   "source": [
    "triad_count = sum(nx.triangles(G).values()) / 3 #In networkx, every triangle is counted 3 times, due to reordering of the vertices\n",
    "print(triad_count, \" triangles\")\n",
    "\n",
    "def triad_density(Graph):\n",
    "    sumpairs = 0\n",
    "    degrees = [d for n, d in G.degree()]\n",
    "    for d in degrees:\n",
    "        sumpairs += d*(d-1)/2\n",
    "    sumpairs -= 2* triad_count\n",
    "    return triad_count/sumpairs"
   ]
  },
  {
   "cell_type": "code",
   "execution_count": null,
   "id": "1e1a3a23",
   "metadata": {},
   "outputs": [],
   "source": [
    "print(triad_density(G))"
   ]
  },
  {
   "cell_type": "markdown",
   "id": "3aec5c36",
   "metadata": {},
   "source": [
    "Now, we create a neighborhood sampling algorithm to approximate the triangle density. Add the probabilities that the algorithm samples the paths and subgraphs below to complete it, and compare it to the empirical triad density."
   ]
  },
  {
   "cell_type": "code",
   "execution_count": null,
   "id": "bed16b2a",
   "metadata": {},
   "outputs": [],
   "source": [
    "start_time = time.time()\n",
    "G_edge_count = len(G.edges())                               # the number of edges of G\n",
    "S_triad=0                                                   #sum of weights for triangles\n",
    "S_tot=0                                                     #sum of weights for all 3-nodes subgraphs\n",
    "N_samples = 500                                             # The number of random samples\n",
    "for k in range(N_samples):                                        \n",
    "    random_sampled_edge = rd.sample(list(G.edges),1)        #sample random edge (u,v)\n",
    "    u = random_sampled_edge[0][0]\n",
    "    v = random_sampled_edge[0][1]\n",
    "    sample_list = []\n",
    "    for i in G[u]:\n",
    "        if i!=v:\n",
    "            sample_list.append(i)                           #add all neighbors of u to the list\n",
    "    for j in G[v]:\n",
    "        if j!=u:\n",
    "            sample_list.append(j)                           #add all neighbors of v to the list\n",
    "    if sample_list == []:\n",
    "        continue\n",
    "    w = rd.sample(sample_list,1)[0]                         #sample random vertex w  from the set of neighbors of u and v\n",
    "    \n",
    "    if G.has_edge(u,w) and G.has_edge(v,w):                 # if u,v,w is a triangle\n",
    "        P=   #What is the probability that triangle (u,v,w) is sampled? You may use that the number of neighbors of a node u is len(G[u])\n",
    "        S_triad+=1/P\n",
    "    else:\n",
    "        if G.has_edge(u,w):\n",
    "            P=        #What is the probability that path (w,u,v) is sampled?\n",
    "        if G.has_edge(v,w):\n",
    "            P=        #What is the probability that path (u,v,w) is sampled?\n",
    "            \n",
    "    S_tot+=1/P\n",
    "print(S_triad/S_tot)\n",
    "print(\"time it takes to estimate triangle density:\", time.time()-start_time)"
   ]
  },
  {
   "cell_type": "markdown",
   "id": "7e987c29",
   "metadata": {},
   "source": [
    "# Part 3, motif counts with respect to different random graph models\n",
    "\n",
    "## Exercise 1 \n",
    "Count the number of triangles in the data sets"
   ]
  },
  {
   "cell_type": "code",
   "execution_count": null,
   "id": "faeeb2f6",
   "metadata": {},
   "outputs": [],
   "source": [
    "triad_count = sum(nx.triangles(G).values()) / 3 #In networkx, every triangle is counted 3 times, due to reordering of the vertices\n",
    "print(triad_count, \" triangles\")"
   ]
  },
  {
   "cell_type": "markdown",
   "id": "9657f0a8",
   "metadata": {},
   "source": [
    "Now let's say that we take an Erdos Renyi model as a null model to test for whether a statistically significant number of triangles is present. First figure out what the correct values of $n$ and $p$ are to compare the ER-model with your data set."
   ]
  },
  {
   "cell_type": "code",
   "execution_count": null,
   "id": "bc02888a",
   "metadata": {},
   "outputs": [],
   "source": [
    "n =               # fill in the correct value of n\n",
    "p =     # fill in the correct value of p\n",
    "print('p = ', p, ' n = ', n)"
   ]
  },
  {
   "cell_type": "markdown",
   "id": "dc5fdc88",
   "metadata": {},
   "source": [
    "With these values for $n$ and $p$, we can generate let's say 100 ER models that should serve as null models for the data sets, and count triangles in those null models. "
   ]
  },
  {
   "cell_type": "code",
   "execution_count": null,
   "id": "9fe1b5fa",
   "metadata": {},
   "outputs": [],
   "source": [
    "test_triad_counts = []  # vector with triangle counts in the ER model\n",
    "for i in range(100):\n",
    "    G_test = nx.erdos_renyi_graph(n,p)\n",
    "    test_triad_counts.append(sum(nx.triangles(G_test).values()) / 3)"
   ]
  },
  {
   "cell_type": "markdown",
   "id": "23d6cd4b",
   "metadata": {},
   "source": [
    "Now plot a histogram of the generated triangle counts from the ER model together with the triangle count in the network data"
   ]
  },
  {
   "cell_type": "code",
   "execution_count": null,
   "id": "707c50bc",
   "metadata": {},
   "outputs": [],
   "source": [
    "def plot_triads(countvec,datacount):    #This function plots a histogram of countvec, with a horizontal line at datacount\n",
    "    fig, ax = plt.subplots(figsize =(10, 7))\n",
    "    ax.hist(countvec, alpha = 0.65)\n",
    "    plt.style.use(\"bmh\")\n",
    "\n",
    "    ax.set_yticks([])\n",
    "    ax.grid(False)\n",
    "    ax.tick_params(left = False, bottom = False)\n",
    "    for ax, spine in ax.spines.items():\n",
    "        spine.set_visible(False)\n",
    "    plt.xlabel(\"triangle counts\",size = 17)\n",
    "    plt.ylabel(\"frequency\",size = 17)\n",
    "    plt.axvline(datacount, color = 'k', linestyle='dashed', linewidth=2)\n",
    "\n",
    "    # Show plot\n",
    "    plt.show()"
   ]
  },
  {
   "cell_type": "code",
   "execution_count": null,
   "id": "0bf7b1e1",
   "metadata": {},
   "outputs": [],
   "source": [
    "plot_triads(test_triad_counts,triad_count)"
   ]
  },
  {
   "cell_type": "markdown",
   "id": "9d126077",
   "metadata": {},
   "source": [
    "Now compute the Z-score of the triangle counts:"
   ]
  },
  {
   "cell_type": "code",
   "execution_count": null,
   "id": "dc008253",
   "metadata": {},
   "outputs": [],
   "source": [
    "def Zscore(countvec,datacount):       #compute the Z score of datacount, when the null model produces as samples countvec\n",
    "    meancount = np.average(countvec)\n",
    "    std_count = np.std(countvec)     # standard deviation of triangle counts in null model\n",
    "    return (datacount-meancount)/std_count"
   ]
  },
  {
   "cell_type": "code",
   "execution_count": null,
   "id": "b3973cd0",
   "metadata": {},
   "outputs": [],
   "source": [
    "print('Zscore is ',Zscore(test_triad_counts,triad_count))"
   ]
  },
  {
   "cell_type": "markdown",
   "id": "8b91e249",
   "metadata": {},
   "source": [
    "### Configuration model\n",
    "Now let's try the same thing in the configuration model. The input for the configuration model is a degree sequence, and it creates a random graph on those degrees. So first generate the correct input for the configuration model to be able to compare it to the data, and then compare triangle counts. "
   ]
  },
  {
   "cell_type": "code",
   "execution_count": null,
   "id": "fcff6b4e",
   "metadata": {},
   "outputs": [],
   "source": [
    "degree_sequence =  # Pick the correct degree sequence\n",
    "\n",
    "test_triad_config = []\n",
    "for i in range(100):\n",
    "    G_config = nx.configuration_model(degree_sequence)\n",
    "    G_config= nx.Graph(G_config)\n",
    "    test_triad_config.append(sum(nx.triangles(G_config).values()) / 3)\n",
    "plot_triads(test_triad_config,triad_count)\n",
    "print('Zscore is ',Zscore(test_triad_config,triad_count))"
   ]
  },
  {
   "cell_type": "markdown",
   "id": "b1ec7aeb",
   "metadata": {},
   "source": [
    "### Geometric random graph \n",
    "Now let's try yet another null model, the geometric random graph. Here, the input parameters are the radius $r$ and the number of vertices $n$. This model assumes that all $n$ vertices are uniformly placed in a $[0,1]^2$ box, and that every vertex connects with vertices within radius $r$. First, find the values of $r$ and $n$ for which you would be able to compare them to your data set, and then compare triangle counts. You may need that np.pi is the number $\\pi$."
   ]
  },
  {
   "cell_type": "code",
   "execution_count": null,
   "id": "7908cbc4",
   "metadata": {},
   "outputs": [],
   "source": [
    "radius =   # compute the radius which you think makes the Geometrc random graph a good null model\n",
    "\n",
    "G_geom = nx.random_geometric_graph(n, radius)\n",
    "\n",
    "test_triad_geom = []\n",
    "for i in range(100):\n",
    "    G_geom = nx.random_geometric_graph(n, radius)\n",
    "    test_triad_geom.append(sum(nx.triangles(G_geom).values()) / 3)\n",
    "plot_triads(test_triad_geom,triad_count)\n",
    "print('Zscore is ', Zscore(test_triad_geom,triad_count))"
   ]
  },
  {
   "cell_type": "markdown",
   "id": "493afd91",
   "metadata": {},
   "source": [
    "## Questions\n",
    "What are the differences between the different random graph odels?\n",
    "\n",
    "Are triangles always significant according to the Z-score?\n",
    "\n",
    "Are there differences when selecting different data sets?"
   ]
  },
  {
   "cell_type": "markdown",
   "id": "eecd3b49",
   "metadata": {},
   "source": [
    "# Part 2\n",
    "##  Other motifs\n",
    "We now investigate some other motif types. For simplicity, we will stick with cliques. First, lets generate a list of all cliques in the network, and a function that then counts all cliques of size $k$."
   ]
  },
  {
   "cell_type": "code",
   "execution_count": null,
   "id": "a6d247c0",
   "metadata": {},
   "outputs": [],
   "source": [
    "def cliquenumber(cliques,k):                #A function that takes a list with all cliques in the graph, and then reports the number of k-cliques\n",
    "    k_clique_num = 0\n",
    "    for i in cliques:\n",
    "        if len(i)==k:\n",
    "            k_clique_num += 1\n",
    "    return k_clique_num"
   ]
  },
  {
   "cell_type": "markdown",
   "id": "7b013b4b",
   "metadata": {},
   "source": [
    "Pick a value of $k$ that you are interested in (probably very large cliques do not appear so often, so you may want to choose it not so much bigger than 3). Then perform the clique count in the data."
   ]
  },
  {
   "cell_type": "code",
   "execution_count": null,
   "id": "1382b33a",
   "metadata": {},
   "outputs": [],
   "source": [
    "k = 3\n",
    "clique_count_G = cliquenumber(clique_list,k)\n",
    "print(clique_count_G)"
   ]
  },
  {
   "cell_type": "markdown",
   "id": "3ad1394b",
   "metadata": {},
   "source": [
    "You can now try the different null models for larger clique sizes and compare. The code now has the ER graph as a null mode, but you can try the other two null models as well:"
   ]
  },
  {
   "cell_type": "code",
   "execution_count": null,
   "id": "f565f62a",
   "metadata": {},
   "outputs": [],
   "source": [
    "test_kclique_counts = []\n",
    "for i in range(100):\n",
    "    G_test = nx.erdos_renyi_graph(n,p)\n",
    "    G_test_cliques = nx.enumerate_all_cliques(G_test) \n",
    "    test_kclique_counts.append(cliquenumber(G_test_cliques,k))\n",
    "plot_triads(test_kclique_counts,clique_count_G)"
   ]
  },
  {
   "cell_type": "markdown",
   "id": "0c59526d",
   "metadata": {},
   "source": [
    "### Questions\n",
    "Do other $k$-cliques appear significantly often compared to the random graph models?"
   ]
  },
  {
   "cell_type": "markdown",
   "id": "eb5a02b4",
   "metadata": {},
   "source": [
    "### Questions\n",
    "How close is the sampled subgraph count to the actual one?\n",
    "\n",
    "How small can $q$ be to still obtain accurate estimates?\n",
    "\n",
    "How does this depend on the clique size $k$?"
   ]
  }
 ],
 "metadata": {
  "kernelspec": {
   "display_name": "base",
   "language": "python",
   "name": "python3"
  },
  "language_info": {
   "codemirror_mode": {
    "name": "ipython",
    "version": 3
   },
   "file_extension": ".py",
   "mimetype": "text/x-python",
   "name": "python",
   "nbconvert_exporter": "python",
   "pygments_lexer": "ipython3",
   "version": "3.12.7"
  }
 },
 "nbformat": 4,
 "nbformat_minor": 5
}
